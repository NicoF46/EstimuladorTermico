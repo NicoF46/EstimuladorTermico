{
 "cells": [
  {
   "cell_type": "code",
   "execution_count": 1,
   "metadata": {},
   "outputs": [],
   "source": [
    "%matplotlib inline\n",
    "import numpy as np\n",
    "import matplotlib.pyplot as plt"
   ]
  },
  {
   "cell_type": "markdown",
   "metadata": {},
   "source": [
    "# Intro\n",
    "De la explicación en la documentación sobre el peltier (\"prac6 mol peltier.pdf\") se sabe que:\n",
    "\n",
    "\n",
    "$$ \\dfrac{T(s)}{I(s)} = \\dfrac{(\\alpha T_c)R_{th}}{1+R_{th}C_fs} $$\n",
    "\n",
    "\n",
    "y que:\n",
    "\n",
    "$$ P_e = \\alpha \\Delta T\\,I + I^2R $$\n",
    "\n",
    "Con lo cual, podemos deducir un modelo de primer orden del peltier.\n",
    "\n",
    "Sabemos que nuestro peltier tiene una resistencia electrica de 1.8 $\\Omega$. De la segunda ecuación se puede averiguar $\\alpha$ y de la primera, se puede despejar $R_{th}$ del valor final de la respuesta del peltier a un escalón, y la capacidad, del tiempo de establecimiento de dicha respuesta.\n",
    "\n",
    "Con esto, tenemos completo el modelo térmico del peltier para empezar a diseñar un lazo de control y estudiar las variaciones del sistema ante la aparición de distintos tipos de sujetos de prueba.\n",
    "\n",
    "## Parámetro $\\alpha$"
   ]
  },
  {
   "cell_type": "code",
   "execution_count": 3,
   "metadata": {},
   "outputs": [
    {
     "name": "stdout",
     "output_type": "stream",
     "text": [
      "Alpha es 0.048000000000000015\n"
     ]
    }
   ],
   "source": [
    "# DATOS\n",
    "I=6     # esto no es exacto\n",
    "V=12    # esto es sarasa porque no se midió\n",
    "R=1.8 \n",
    "DT=25   # confiando en que el disipador sea muy bueno y\n",
    "        # que la termocupla, exacta\n",
    "# CUENTAS\n",
    "Pe=V*I\n",
    "Pj=I**2*R\n",
    "alpha=(Pe-Pj)/DT/I\n",
    "# RESULTADO\n",
    "print(\"Alpha es\",alpha)"
   ]
  },
  {
   "cell_type": "markdown",
   "metadata": {},
   "source": [
    "## Obtención de $R_{th}$ y $C_f$"
   ]
  },
  {
   "cell_type": "code",
   "execution_count": 79,
   "metadata": {
    "scrolled": false
   },
   "outputs": [
    {
     "name": "stdout",
     "output_type": "stream",
     "text": [
      "Tau es 10.233059803644815 \n",
      "La constante es 29.81890869140625\n"
     ]
    },
    {
     "data": {
      "image/png": "[encoded data removed]",
      "text/plain": [
       "<Figure size 432x288 with 1 Axes>"
      ]
     },
     "metadata": {
      "needs_background": "light"
     },
     "output_type": "display_data"
    }
   ],
   "source": [
    "# CARGA DE DATOS ESCALÓN\n",
    "data = np.loadtxt(\"data/pwm255frio.csv\", delimiter=\",\")\n",
    "tiempo = data[0,:]\n",
    "temp = data[1,:]\n",
    "e=.06 # tolerancia a la exactitud de los puntos de 90% y 10%\n",
    "# Ploteo los datos para ver que se cargaron bien\n",
    "plt.plot(tiempo,temp)\n",
    "plt.xlabel(\"t (s)\")\n",
    "plt.ylabel(\"T (ºC)\")\n",
    "Tmax=np.max(temp)\n",
    "Tmin=np.min(temp)\n",
    "T10=Tmax+(Tmin-Tmax)*0.1\n",
    "T90=Tmax+(Tmin-Tmax)*0.9\n",
    "t10=tiempo[np.logical_and(temp>T10-e, temp<T10+e)]\n",
    "t90=tiempo[np.logical_and(temp>T90-e, temp<T90+e)]\n",
    "# Como los valores temporales pueden ser tuplas, o sea \n",
    "# que puede haber tiempos donde el valor de la temperatura\n",
    "# no cambio, tomo aquellos que me dan el tau mas grande\n",
    "tr=np.max(t90)-np.min(t10)\n",
    "tau=tr/3\n",
    "\n",
    "# Esta parte esta medio dibujada por el tema de Tc\n",
    "Tc=30\n",
    "Rth=(Tmax-Tmin)/(alpha*Tc)\n",
    "Cf=tau/Rth\n",
    "\n",
    "# VERIFICACIÓN\n",
    "# El 4 lo saque a ojo\n",
    "plt.plot(tiempo,Tmax-alpha*Tc*Rth*(1-np.exp(-(tiempo-4)/tau))*np.heaviside(tiempo-4,0.5))\n",
    "print(\"Tau es\",tau, \"\\nLa constante es\",alpha*Tc*Rth)"
   ]
  }
 ],
 "metadata": {
  "kernelspec": {
   "display_name": "Python 3",
   "language": "python",
   "name": "python3"
  },
  "language_info": {
   "codemirror_mode": {
    "name": "ipython",
    "version": 3
   },
   "file_extension": ".py",
   "mimetype": "text/x-python",
   "name": "python",
   "nbconvert_exporter": "python",
   "pygments_lexer": "ipython3",
   "version": "3.7.3"
  },
  "toc": {
   "base_numbering": 1,
   "nav_menu": {},
   "number_sections": true,
   "sideBar": true,
   "skip_h1_title": false,
   "title_cell": "Table of Contents",
   "title_sidebar": "Contents",
   "toc_cell": false,
   "toc_position": {},
   "toc_section_display": true,
   "toc_window_display": false
  }
 },
 "nbformat": 4,
 "nbformat_minor": 2
}
